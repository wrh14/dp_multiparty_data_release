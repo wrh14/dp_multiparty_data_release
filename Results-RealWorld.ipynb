{
 "cells": [
  {
   "cell_type": "code",
   "execution_count": null,
   "id": "3538b587",
   "metadata": {},
   "outputs": [],
   "source": [
    "import torch\n",
    "import numpy as np\n",
    "import matplotlib.pyplot as plt"
   ]
  },
  {
   "cell_type": "code",
   "execution_count": null,
   "id": "bcb67f15",
   "metadata": {
    "scrolled": true
   },
   "outputs": [],
   "source": [
    "dataset_list = [\"bike_sharing\", \"superconduct\", \"gpu\", \"year_prediction\", \"insurance\"]#, \"year_prediction\", \"bike_sharing\"]\n",
    "delta = 1e-5\n",
    "eps_list = [1.0, 0.3, 0.1]\n",
    "selected_id = [7, 6]\n",
    "m_list = [5, 10, 5, 10, 5]\n",
    "for dataset, m in zip(dataset_list, m_list):\n",
    "#     if dataset == \"year_prediction\":\n",
    "#         continue\n",
    "    res = []\n",
    "    for lam in [1e-5]:\n",
    "        print(f\"{dataset} -- lam={lam}\")\n",
    "        for eps in eps_list:\n",
    "            ratio_list = [1.0]\n",
    "            num_seed = 100\n",
    "            test_loss_arr_all = []\n",
    "            for ratio in ratio_list:\n",
    "                test_loss_list = []\n",
    "                for seed in range(num_seed):\n",
    "                    checkpoint = torch.load(f\"checkpoint/private_feature_regression/{dataset}_{eps}_{delta}_{ratio}_{lam}_{m}_{seed}\")\n",
    "                    test_losses = [result[1] for result in checkpoint[\"test_losses\"]]\n",
    "                    test_loss_list.append(test_losses)\n",
    "#                     if seed == 0:\n",
    "#                         print(checkpoint[\"r_list\"])\n",
    "                test_loss_arr = np.asarray(test_loss_list)\n",
    "                test_loss_arr_all.append(test_loss_arr)\n",
    "            test_loss_arr_all = np.asarray(test_loss_arr_all) # num_ratio * num_seed * algo\n",
    "#             print(test_loss_arr_all.shape)\n",
    "            if eps == 1.0:\n",
    "                res += [\"${:.3f}$\".format(l) for l in test_loss_arr_all[-1][:, [0]].mean(0)]\n",
    "            res += [\"${:.4f}$\".format(test_loss_arr_all[-1][:, 6].mean(0))]\n",
    "            res += [\"${:.4f}$\".format(test_loss_arr_all[-1][:, [1, 2, 3, 4, 5]].mean(0).min(-1))]\n",
    "            res += [\"${:.4f}$\".format(test_loss_arr_all[-1][:, 7].mean(0))]\n",
    "#             print([\"{:.4f}\".format(l) for l in test_loss_arr_all[-1][:, selected_id].mean(0)])\n",
    "    print(\" & \".join(res))"
   ]
  }
 ],
 "metadata": {
  "kernelspec": {
   "display_name": "dfiattack2",
   "language": "python",
   "name": "dfiattack2"
  },
  "language_info": {
   "codemirror_mode": {
    "name": "ipython",
    "version": 3
   },
   "file_extension": ".py",
   "mimetype": "text/x-python",
   "name": "python",
   "nbconvert_exporter": "python",
   "pygments_lexer": "ipython3",
   "version": "3.7.9"
  }
 },
 "nbformat": 4,
 "nbformat_minor": 5
}
